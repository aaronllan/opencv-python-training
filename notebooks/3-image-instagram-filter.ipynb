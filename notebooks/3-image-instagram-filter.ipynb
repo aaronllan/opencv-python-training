{
 "cells": [
  {
   "cell_type": "code",
   "execution_count": 1,
   "metadata": {},
   "outputs": [
    {
     "ename": "NameError",
     "evalue": "name 'cv2' is not defined",
     "output_type": "error",
     "traceback": [
      "\u001b[1;31m---------------------------------------------------------------------------\u001b[0m",
      "\u001b[1;31mNameError\u001b[0m                                 Traceback (most recent call last)",
      "\u001b[1;32m<ipython-input-1-7fad06eae472>\u001b[0m in \u001b[0;36m<module>\u001b[1;34m()\u001b[0m\n\u001b[0;32m      8\u001b[0m \u001b[1;33m\u001b[0m\u001b[0m\n\u001b[0;32m      9\u001b[0m     \u001b[0moverlay\u001b[0m \u001b[1;33m=\u001b[0m \u001b[0mnp\u001b[0m\u001b[1;33m.\u001b[0m\u001b[0mfull\u001b[0m\u001b[1;33m(\u001b[0m\u001b[1;33m(\u001b[0m\u001b[0mframe_height\u001b[0m\u001b[1;33m,\u001b[0m \u001b[0mframe_width\u001b[0m\u001b[1;33m,\u001b[0m \u001b[1;36m4\u001b[0m\u001b[1;33m)\u001b[0m\u001b[1;33m,\u001b[0m \u001b[0msepia_bgra\u001b[0m\u001b[1;33m,\u001b[0m \u001b[0mdtype\u001b[0m \u001b[1;33m=\u001b[0m \u001b[1;34m'uint8'\u001b[0m\u001b[1;33m)\u001b[0m\u001b[1;33m\u001b[0m\u001b[0m\n\u001b[1;32m---> 10\u001b[1;33m \u001b[0mcap\u001b[0m \u001b[1;33m=\u001b[0m \u001b[0mcv2\u001b[0m\u001b[1;33m.\u001b[0m\u001b[0mVideoCapture\u001b[0m\u001b[1;33m(\u001b[0m\u001b[1;36m0\u001b[0m\u001b[1;33m)\u001b[0m\u001b[1;33m\u001b[0m\u001b[0m\n\u001b[0m\u001b[0;32m     11\u001b[0m \u001b[1;33m\u001b[0m\u001b[0m\n\u001b[0;32m     12\u001b[0m \u001b[1;32mwhile\u001b[0m \u001b[1;32mTrue\u001b[0m\u001b[1;33m:\u001b[0m\u001b[1;33m\u001b[0m\u001b[0m\n",
      "\u001b[1;31mNameError\u001b[0m: name 'cv2' is not defined"
     ]
    }
   ],
   "source": [
    "def apply_invert(frame):\n",
    "    return cv2.bitwise_not(frame)\n",
    "def appy_sepia(frame, intensity = 0.5):\n",
    "    blue, green, red = 20, 66, 112\n",
    "    frame = apply_alpha_convert(frame)\n",
    "    frame_height, frame_width, frame_channel = frame.shape\n",
    "    sepia_bgra = (blue, green, red, 1)\n",
    "    \n",
    "    overlay = np.full((frame_height, frame_width, 4), sepia_bgra, dtype = 'uint8')\n",
    "    frame = cv2.addWeighted(overlay, intensity, frame, 1.0, 0)\n",
    "    frame = cv2.cvtColor(frame, cv2.COLOR_BGRA2BGR)\n",
    "    return frame\n",
    "cap = cv2.VideoCapture(0)\n",
    "\n",
    "def apply_alpha_convert(frame):\n",
    "    try:\n",
    "        frame.shape[3]\n",
    "    except IndexError:\n",
    "        frame = cv2.Color(frame, cv2.COLOR_BGR2BGRA)\n",
    "    return frame\n",
    "\n",
    "def apply_portrait_mode(frame):\n",
    "    frame = appy_alpha_convert(frame)\n",
    "    gray = cv2.cvtColor(frame, cv2.COLOR_BGR2GRAY)\n",
    "    _, mask = cv2.threshold(gray, 120, 255, cv2.THRESH_BINARY)\n",
    "    \n",
    "    mask = cv2.cvtColor(mas, cv2.COLOR_GRAY2BGRA)\n",
    "    blurred = cv2.GaussianBlur(frame, (21,21), 0)\n",
    "    #cv2.imshow('mask', mask)\n",
    "    #cv2.imshow('blurred', blurred)\n",
    "    blended = apply_blended(frame, blurred, mask)\n",
    "    frame = cv2.cvtColor(blended, cv2.COLOR_BGRA2BGR)\n",
    "    return blended\n",
    "def apply_blend(frame_1, frame_2, mask):\n",
    "    alpha = mask/255.0\n",
    "    blended = cv2.converScaleAbs(frame_1 * (1 - alpha) + (frame_2 * alpha))\n",
    "    return blended\n",
    "while True:\n",
    "    _, frame = apply_invert(frame)\n",
    "    sepia= apply_sepia(frame)\n",
    "    invert = apply_invert(frame)\n",
    "    portrait = apply_portrait_mode(frame)\n",
    "    cv2.imshow('portrait', portrait)\n",
    "    cv2.imshow('frame', frame)\n",
    "    cv2.imshow('invert', invert)\n",
    "    \n",
    "    k = cv2.waitKey(1)\n",
    "    \n",
    "    if k ==ord('q') or k == 27:\n",
    "        cap.release()\n",
    "        cv2.destroyAllWindows()\n",
    "        break"
   ]
  },
  {
   "cell_type": "code",
   "execution_count": null,
   "metadata": {},
   "outputs": [],
   "source": []
  }
 ],
 "metadata": {
  "kernelspec": {
   "display_name": "Python 3",
   "language": "python",
   "name": "python3"
  },
  "language_info": {
   "codemirror_mode": {
    "name": "ipython",
    "version": 3
   },
   "file_extension": ".py",
   "mimetype": "text/x-python",
   "name": "python",
   "nbconvert_exporter": "python",
   "pygments_lexer": "ipython3",
   "version": "3.6.4"
  }
 },
 "nbformat": 4,
 "nbformat_minor": 2
}
